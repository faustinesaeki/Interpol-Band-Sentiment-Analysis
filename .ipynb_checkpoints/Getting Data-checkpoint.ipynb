{
 "cells": [
  {
   "cell_type": "code",
   "execution_count": 1,
   "id": "5b281c4c",
   "metadata": {},
   "outputs": [],
   "source": [
    "import requests\n",
    "import pandas as pd\n",
    "from api_keys import *"
   ]
  },
  {
   "cell_type": "code",
   "execution_count": 2,
   "id": "09f9d23f",
   "metadata": {},
   "outputs": [],
   "source": [
    "GENIUS_API_KEY = genius_api_key\n",
    "CLIENT_ID = spotify_client_id\n",
    "CLIENT_SECRET = spotify_client_secret\n",
    "\n",
    "#аутентификация на спотифай\n",
    "\n",
    "from base64 import b64encode\n",
    "\n",
    "#кодировка айди и секрета, чтобы получить токен доступа к спотифай апи\n",
    "creds = f\"{CLIENT_ID}:{CLIENT_SECRET}\"\n",
    "encoded_creds = b64encode(creds.encode()).decode()\n",
    "\n",
    "token_url = \"https://accounts.spotify.com/api/token\"\n",
    "headers = {\"Authorization\": f\"Basic {encoded_creds}\",\n",
    "           \"Content-Type\": \"application/x-www-form-urlencoded\"}\n",
    "\n",
    "data = {\"grant_type\": \"client_credentials\"}\n",
    "\n",
    "response =  requests.post(token_url, headers = headers, data = data)\n",
    "ACCESS_TOKEN = response.json()['access_token']"
   ]
  },
  {
   "cell_type": "code",
   "execution_count": 3,
   "id": "c97410f1",
   "metadata": {},
   "outputs": [],
   "source": [
    "artist = \"Interpol\"\n",
    "albums = [\"Turn On the Bright Lights\",\n",
    "          \"Antics\", \n",
    "          \"Our Love to Admire\", \n",
    "          \"Interpol\", \n",
    "          \"El Pintor\", \n",
    "          \"Marauder\", \n",
    "          \"The Other Side of Make-Believe\"]\n"
   ]
  },
  {
   "cell_type": "code",
   "execution_count": 4,
   "id": "19617e61",
   "metadata": {},
   "outputs": [
    {
     "data": {
      "text/plain": [
       "{'error': {'status': 403, 'message': 'Spotify is unavailable in this country'}}"
      ]
     },
     "execution_count": 4,
     "metadata": {},
     "output_type": "execute_result"
    }
   ],
   "source": [
    "def get_artist_id(artist):\n",
    "    url = \"https://api.spotify.com/v1/search\"\n",
    "    headers = {\"Authorization\": f\"Bearer {ACCESS_TOKEN}\"}\n",
    "    \n",
    "    #ищем первого исполнителя по запросу, чтобы получить его айдишник и дальше с ним работать\n",
    "    params = {'q' : {artist},\n",
    "              'type' : 'artist',\n",
    "              'limit' : 1}\n",
    "    \n",
    "    response = requests.get(url, headers = headers, params = params)\n",
    "    data  = response.json()\n",
    "    return data\n",
    "\n",
    "\n",
    "get_artist_id(artist)\n",
    "    "
   ]
  },
  {
   "cell_type": "code",
   "execution_count": null,
   "id": "c60ee29b",
   "metadata": {},
   "outputs": [],
   "source": []
  }
 ],
 "metadata": {
  "kernelspec": {
   "display_name": "Python 3 (ipykernel)",
   "language": "python",
   "name": "python3"
  },
  "language_info": {
   "codemirror_mode": {
    "name": "ipython",
    "version": 3
   },
   "file_extension": ".py",
   "mimetype": "text/x-python",
   "name": "python",
   "nbconvert_exporter": "python",
   "pygments_lexer": "ipython3",
   "version": "3.12.3"
  }
 },
 "nbformat": 4,
 "nbformat_minor": 5
}
